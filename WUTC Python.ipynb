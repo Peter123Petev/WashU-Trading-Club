{
 "cells": [
  {
   "cell_type": "markdown",
   "metadata": {},
   "source": [
    "Things to Import"
   ]
  },
  {
   "cell_type": "code",
   "execution_count": null,
   "metadata": {},
   "outputs": [],
   "source": [
    "%matplotlib inline\n",
    "import random\n",
    "import requests\n",
    "import matplotlib.pyplot as plt"
   ]
  },
  {
   "cell_type": "markdown",
   "metadata": {},
   "source": [
    "Function to get Data from IEX API"
   ]
  },
  {
   "cell_type": "code",
   "execution_count": null,
   "metadata": {},
   "outputs": [],
   "source": [
    "def getData(ticker, attribute):\n",
    "    URL = \"https://api.iextrading.com/1.0/stock/\" + ticker.lower() + \"/chart/5y\"\n",
    "    PARAMS = {} #  {'param':\"value\"}\n",
    "    r = requests.get(url = URL, params = PARAMS)\n",
    "    data = r.json()\n",
    "    return [float(x[attribute]) for x in data]"
   ]
  },
  {
   "cell_type": "code",
   "execution_count": null,
   "metadata": {},
   "outputs": [],
   "source": [
    "AMD_close_data = getData('AMD', 'close')\n",
    "\n",
    "print(AMD_close_data[0:100])"
   ]
  },
  {
   "cell_type": "markdown",
   "metadata": {},
   "source": [
    "Function to convert from a time series to percentage change series"
   ]
  },
  {
   "cell_type": "code",
   "execution_count": null,
   "metadata": {},
   "outputs": [],
   "source": [
    "def percentChanges(numbers):\n",
    "    if len(numbers) > 1:\n",
    "        return [100.0 * ((numbers[x+1] - numbers[x])/numbers[x]) for x in range(len(numbers) - 1)]\n",
    "    else:\n",
    "        return []"
   ]
  },
  {
   "cell_type": "code",
   "execution_count": null,
   "metadata": {},
   "outputs": [],
   "source": [
    "AMD_percent_changes = percentChanges(AMD_close_data)\n",
    "\n",
    "print(AMD_percent_changes[0:100])"
   ]
  },
  {
   "cell_type": "markdown",
   "metadata": {},
   "source": [
    "Plot function to make life easier"
   ]
  },
  {
   "cell_type": "code",
   "execution_count": null,
   "metadata": {},
   "outputs": [],
   "source": [
    "def plot(chart_type, numbers, ylabel, xlabel):\n",
    "    if chart_type == 'line':\n",
    "        plt.plot(numbers)\n",
    "    elif chart_type == 'histogram':\n",
    "        plt.hist(numbers, 100)\n",
    "    plt.ylabel(ylabel)\n",
    "    plt.xlabel(xlabel)\n",
    "    plt.show()"
   ]
  },
  {
   "cell_type": "code",
   "execution_count": null,
   "metadata": {},
   "outputs": [],
   "source": [
    "plot('line', AMD_close_data, 'Price', 'Day')"
   ]
  },
  {
   "cell_type": "code",
   "execution_count": null,
   "metadata": {},
   "outputs": [],
   "source": [
    "plot('histogram', AMD_percent_changes, 'Frequency', '% Change')"
   ]
  },
  {
   "cell_type": "code",
   "execution_count": null,
   "metadata": {},
   "outputs": [],
   "source": [
    "def generate_series(start, percent_change_possibilities, length):\n",
    "    generated = [start]\n",
    "    for i in range(length):\n",
    "        generated.append(generated[-1] * (1 + random.choice(percent_change_possibilities)/100.0))\n",
    "    return generated"
   ]
  },
  {
   "cell_type": "code",
   "execution_count": null,
   "metadata": {},
   "outputs": [],
   "source": [
    "starting_price = 100\n",
    "days_to_fake = 1000\n",
    "\n",
    "fake_stock = generate_series(starting_price, AMD_percent_changes, days_to_fake)\n",
    "\n",
    "plot('line', fake_stock, 'Price', 'Day')"
   ]
  },
  {
   "cell_type": "markdown",
   "metadata": {},
   "source": [
    "Create a simple strategy"
   ]
  },
  {
   "cell_type": "code",
   "execution_count": null,
   "metadata": {},
   "outputs": [],
   "source": [
    "def strategy_1(numbers, tf, mult):\n",
    "    series_range = []\n",
    "    high_bounds = []\n",
    "    low_bounds = []\n",
    "    \n",
    "    position = None\n",
    "    stop_loss = None\n",
    "    current_trade = 0\n",
    "    account = 0\n",
    "    account_history = []\n",
    "    \n",
    "    for i in range(len(numbers)):\n",
    "        if i < tf:\n",
    "            series_range.append(None)\n",
    "            high_bounds.append(None)\n",
    "            low_bounds.append(None)\n",
    "            account_history.append(account)\n",
    "        else:\n",
    "            subset = numbers[i-tf:i]\n",
    "            series_range.append(max(subset) - min(subset))\n",
    "            high_bounds.append(numbers[i] + mult * series_range[i])\n",
    "            low_bounds.append(numbers[i] - mult * series_range[i])\n",
    "            \n",
    "            if position == None:\n",
    "                position = random.choice(['long', 'short'])\n",
    "                if position == 'long':\n",
    "                    stop_loss = low_bounds[i]\n",
    "                    current_trade = numbers[i]\n",
    "#                     print(\"ENTER LONG @ \" + str(numbers[i]))\n",
    "                elif position == 'short':\n",
    "                    stop_loss = high_bounds[i]\n",
    "                    current_trade = numbers[i]\n",
    "#                     print(\"ENTER SHORT @ \" + str(numbers[i]))\n",
    "                account_history.append(account)\n",
    "            elif position == 'long':\n",
    "                stop_loss = max(low_bounds[i], stop_loss)\n",
    "                if numbers[i] < stop_loss:\n",
    "                    position = None\n",
    "                    account += numbers[i] - current_trade\n",
    "#                     print(\"EXIT LONG @ \" + str(numbers[i]) + \" P/L: \" + str(numbers[i] - current_trade))\n",
    "                account_history.append(account + numbers[i] - current_trade)\n",
    "            elif position == 'short':\n",
    "                stop_loss = min(high_bounds[i], stop_loss)\n",
    "                if numbers[i] > stop_loss:\n",
    "                    position = None\n",
    "                    account -= numbers[i] - current_trade\n",
    "#                     print(\"EXIT SHORT @ \" + str(numbers[i]) + \" P/L: \" + str(current_trade - numbers[i]))\n",
    "                account_history.append(account - numbers[i] + current_trade)\n",
    "#             print(position, numbers[i], stop_loss)\n",
    "\n",
    "    return [high_bounds, numbers, low_bounds, account_history]"
   ]
  },
  {
   "cell_type": "markdown",
   "metadata": {},
   "source": [
    "Test Strategy on our fake stock"
   ]
  },
  {
   "cell_type": "code",
   "execution_count": null,
   "metadata": {},
   "outputs": [],
   "source": [
    "sfs = strategy_1(fake_stock, 50, 1.5)\n",
    "\n",
    "for element in sfs[:3]:\n",
    "    plt.plot(element)\n",
    "plt.title(\"Strategy 1\")\n",
    "plt.ylabel(\"Price\")\n",
    "plt.xlabel(\"Day\")\n",
    "plt.show()\n",
    "\n",
    "plt.plot(sfs[3])\n",
    "plt.ylabel(\"P/L\")\n",
    "plt.xlabel(\"Day\")\n",
    "plt.show()"
   ]
  },
  {
   "cell_type": "markdown",
   "metadata": {},
   "source": [
    "Getting some sample data"
   ]
  },
  {
   "cell_type": "code",
   "execution_count": null,
   "metadata": {},
   "outputs": [],
   "source": [
    "tickers = ['aapl', 'ge', 'ko', 'snap', 'fb', 'jnj']\n",
    "percent_changes = []\n",
    "for ticker in tickers:\n",
    "    percent_changes += percentChanges(getData(ticker, 'close'))"
   ]
  },
  {
   "cell_type": "markdown",
   "metadata": {},
   "source": [
    "Testing the strategy on many random stocks"
   ]
  },
  {
   "cell_type": "code",
   "execution_count": null,
   "metadata": {},
   "outputs": [],
   "source": [
    "account_lines = []\n",
    "for i in range(1000):\n",
    "    fake_stock = generate_series(100, percent_changes, 1000)\n",
    "    sfs = strategy_1(fake_stock, 50, 1.5)\n",
    "    account_lines.append(sfs[3])\n",
    "\n",
    "avg_acct = []\n",
    "for i in range(len(account_lines[0])):\n",
    "    total = 0\n",
    "    for acct in account_lines:\n",
    "        total += acct[i]\n",
    "    avg_acct.append(total / len(account_lines))\n",
    "\n",
    "plt.plot(avg_acct)\n",
    "plt.ylabel(\"P/L\")\n",
    "plt.xlabel(\"Day\")\n",
    "plt.show()"
   ]
  },
  {
   "cell_type": "code",
   "execution_count": null,
   "metadata": {},
   "outputs": [],
   "source": []
  }
 ],
 "metadata": {
  "kernelspec": {
   "display_name": "Python 3",
   "language": "python",
   "name": "python3"
  },
  "language_info": {
   "codemirror_mode": {
    "name": "ipython",
    "version": 3
   },
   "file_extension": ".py",
   "mimetype": "text/x-python",
   "name": "python",
   "nbconvert_exporter": "python",
   "pygments_lexer": "ipython3",
   "version": "3.7.1"
  }
 },
 "nbformat": 4,
 "nbformat_minor": 2
}
